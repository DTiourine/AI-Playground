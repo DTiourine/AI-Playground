{
 "cells": [
  {
   "cell_type": "code",
   "execution_count": null,
   "id": "eca8f092-e3b4-499a-bb71-52d6c673ebf6",
   "metadata": {},
   "outputs": [],
   "source": [
    "import torch\n",
    "from torchvision import datasets, transforms\n",
    "import matplotlib.pyplot as plt\n",
    "import numpy as np\n",
    "import random\n",
    "\n",
    "# Define the transformation\n",
    "transform = transforms.Compose([\n",
    "    transforms.Resize((224, 224)),\n",
    "    transforms.ToTensor()\n",
    "])\n",
    "\n",
    "# Load the dataset\n",
    "train_set = datasets.OxfordIIITPet(root='./data', split='trainval', download=True, transform=transform)\n",
    "\n",
    "# Create a DataLoader\n",
    "train_loader = torch.utils.data.DataLoader(train_set, batch_size=64, shuffle=True)\n",
    "\n",
    "# Function to show images\n",
    "def show_images(images, labels):\n",
    "    plt.figure(figsize=(10, 10))\n",
    "    for i in range(16):\n",
    "        plt.subplot(4, 4, i + 1)\n",
    "        # Unnormalize and convert back to PIL image for display\n",
    "        plt.imshow(np.transpose(images[i].numpy(), (1, 2, 0)))\n",
    "        plt.title(labels[i])\n",
    "        plt.axis('off')\n",
    "    plt.show()\n",
    "\n",
    "# Get a single batch of images\n",
    "images, labels = next(iter(train_loader))\n",
    "\n",
    "# Select 16 random images from the batch to display\n",
    "idxs = random.sample(range(len(images)), 16)\n",
    "show_images(images[idxs], [train_set.classes[labels[i]] for i in idxs])"
   ]
  },
  {
   "cell_type": "code",
   "execution_count": 1,
   "id": "368f24f8-143a-4eeb-889e-18b07f183658",
   "metadata": {},
   "outputs": [
    {
     "ename": "NameError",
     "evalue": "name 'train_set' is not defined",
     "output_type": "error",
     "traceback": [
      "\u001b[1;31m---------------------------------------------------------------------------\u001b[0m",
      "\u001b[1;31mNameError\u001b[0m                                 Traceback (most recent call last)",
      "Cell \u001b[1;32mIn[1], line 2\u001b[0m\n\u001b[0;32m      1\u001b[0m \u001b[38;5;28;01mfor\u001b[39;00m i \u001b[38;5;129;01min\u001b[39;00m \u001b[38;5;28mrange\u001b[39m(\u001b[38;5;241m10\u001b[39m):\n\u001b[1;32m----> 2\u001b[0m     x, y \u001b[38;5;241m=\u001b[39m \u001b[43mtrain_set\u001b[49m[i]\n\u001b[0;32m      3\u001b[0m     \u001b[38;5;28mprint\u001b[39m(x\u001b[38;5;241m.\u001b[39mshape)\n",
      "\u001b[1;31mNameError\u001b[0m: name 'train_set' is not defined"
     ]
    }
   ],
   "source": [
    "for i in range(10):\n",
    "    x, y = train_set[i]\n",
    "    print(x.shape)"
   ]
  },
  {
   "cell_type": "code",
   "execution_count": null,
   "id": "1c50c3c3-892e-4230-903c-109224a1e6de",
   "metadata": {},
   "outputs": [],
   "source": [
    "x.shape"
   ]
  },
  {
   "cell_type": "code",
   "execution_count": null,
   "id": "dd5c4ebc",
   "metadata": {},
   "outputs": [],
   "source": [
    "y.shape"
   ]
  },
  {
   "cell_type": "code",
   "execution_count": null,
   "id": "fa886382",
   "metadata": {},
   "outputs": [],
   "source": []
  }
 ],
 "metadata": {
  "kernelspec": {
   "display_name": "Python 3 (ipykernel)",
   "language": "python",
   "name": "python3"
  },
  "language_info": {
   "codemirror_mode": {
    "name": "ipython",
    "version": 3
   },
   "file_extension": ".py",
   "mimetype": "text/x-python",
   "name": "python",
   "nbconvert_exporter": "python",
   "pygments_lexer": "ipython3",
   "version": "3.11.5"
  }
 },
 "nbformat": 4,
 "nbformat_minor": 5
}
